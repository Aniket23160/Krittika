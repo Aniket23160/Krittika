{
  "nbformat": 4,
  "nbformat_minor": 0,
  "metadata": {
    "colab": {
      "name": "CAB_Problem_Statement.ipynb",
      "provenance": [],
      "collapsed_sections": []
    },
    "kernelspec": {
      "name": "python3",
      "display_name": "Python 3"
    },
    "language_info": {
      "name": "python"
    }
  },
  "cells": [
    {
      "cell_type": "markdown",
      "source": [
        "# **Question 1 : Visualizing Pleiades cluster**\n",
        "\n",
        "Our beloved astronomy club, Krittika, is named after one of the most conspicuous star cluster in the sky, Pleiades. The CSV file stardata.csv\n",
        "contains four columns of data, which contain the following data for 196 stars in the cluster:\n",
        "\n",
        "\n",
        "*   Column 1: RA of each star in degrees\n",
        "*   Column 2: Declination of each star in degrees\n",
        "*   Column 3: Parallax of each star in milliarcseconds (mas)\n",
        "*   Column 4: Apparent Magnitude of the star\n",
        "\n",
        "\n",
        "Parallax $p$ of a star is directly related to its distance $d$ as $d$ in parsecs $= \\frac{1}{p}$ where parallax is in arcseconds.\n",
        "\n",
        "Before proceeding, you need to be able to read the csv file contents, and since the assignment involves graphs, you might want to import some things as well:"
      ],
      "metadata": {
        "id": "6jprQ7IFBY9b"
      }
    },
    {
      "cell_type": "code",
      "source": [
        "#put your import statements here\n",
        "#use one of the imported libraries to read the contents of csv file in a neat form\n",
        "import pandas \n",
        "data=pandas.read_csv('/content/drive/MyDrive/Selection_Assignment/stardata.csv')\n",
        "print(data)"
      ],
      "metadata": {
        "id": "wFuuIRbqCIRL",
        "colab": {
          "base_uri": "https://localhost:8080/"
        },
        "outputId": "0df4066e-e4b4-4d0b-b7f5-107842642cbe"
      },
      "execution_count": null,
      "outputs": [
        {
          "output_type": "stream",
          "name": "stdout",
          "text": [
            "     56.56677415601188  24.189734528215197   7.3935352662039655   8.208464\n",
            "0            56.557355           24.196560    7.545834754428319   7.323018\n",
            "1            56.613757           24.254807     7.21777120370273   7.339084\n",
            "2            56.642808           24.138091   3.5113645931028596  11.468399\n",
            "3            56.663986           24.103001    7.418396935580117   9.191837\n",
            "4            56.477255           24.252647  0.44848553525881374  10.442434\n",
            "..                 ...                 ...                  ...        ...\n",
            "194          56.085556           24.772663    7.184980521025954  10.851324\n",
            "195          57.413389           24.227447   0.7318242043789284  11.703114\n",
            "196          57.275547           23.781044    7.209080087285128  10.420579\n",
            "197          56.352150           23.486739   3.2474518773823196  11.549389\n",
            "198          55.894421           24.593812  0.31234967684231557  11.863298\n",
            "\n",
            "[199 rows x 4 columns]\n"
          ]
        }
      ]
    },
    {
      "cell_type": "code",
      "source": [
        "from google.colab import drive\n",
        "drive.mount('/content/drive')"
      ],
      "metadata": {
        "colab": {
          "base_uri": "https://localhost:8080/"
        },
        "id": "hLDMeHs-Gdg-",
        "outputId": "ecee9efc-97e9-436e-96da-4b5280c0d52e"
      },
      "execution_count": 3,
      "outputs": [
        {
          "output_type": "stream",
          "name": "stdout",
          "text": [
            "Drive already mounted at /content/drive; to attempt to forcibly remount, call drive.mount(\"/content/drive\", force_remount=True).\n"
          ]
        }
      ]
    },
    {
      "cell_type": "markdown",
      "source": [
        "A little background on magnitude of a star:\n",
        "\n",
        "Magnitudes in Astronomy are a way to describe how bright an object (in our case, a star) is:\n",
        "\n",
        "**Apparent magnitude**: Apparent magnitude ($m$) is a measure of the brightness of a star or any other astronomical object observed from the earth. It is similar to the decibel system for sound in that magnitudes are logarithmic and can be calculated according to the formula\n",
        "$$m = -2.5 \\log  { \\left ( \\dfrac{F}{F_0} \\right )} $$\n",
        "where $F$ is the flux from the star (measured in $W/m^2$), and $F_0$ is a reference flux. \n",
        "\n",
        "We can calculate the flux of a star at some distance $d$ away as\n",
        "$$F = \\dfrac{L}{4 \\pi d^2}$$\n",
        "\n",
        "where $L$ is the Luminosity of the star (measured in W).\n",
        "\n",
        "**Absolute magnitude**: It is the magnitude of the star at a distance of 10 pc, and is related to the apparent magnitude by (and try to see if you can derive this):\n",
        "$$m-M = -5 + 5\\log_{10}(d)$$\n",
        "where $M$ is the absolute magnitude and $d$ is the distance of the star from us in parsecs (pc).\n",
        "To read up more about magnitudes, hit up this Wikipedia article - https://en.wikipedia.org/wiki/Magnitude_(astronomy%29.\n",
        "\n",
        "Using the above info and the earlier relation of distance and parallax, use the imported libraries to find the absolute magnitudes of all the stars of the csv file, and plot a histogram of the distribution, with 50 bins."
      ],
      "metadata": {
        "id": "tRub3yySCcbd"
      }
    },
    {
      "cell_type": "code",
      "source": [
        "#Solution code\n",
        "import math\n",
        "\n",
        "import pandas as pd\n",
        "df=pd.DataFrame(data)\n",
        "# print(data)   \n",
        "df.head() \n"
      ],
      "metadata": {
        "id": "kJpsPXK6sMZp",
        "colab": {
          "base_uri": "https://localhost:8080/",
          "height": 206
        },
        "outputId": "fffc0c88-a3c3-4411-8f3f-0344307abf3a"
      },
      "execution_count": null,
      "outputs": [
        {
          "output_type": "execute_result",
          "data": {
            "text/plain": [
              "   56.56677415601188  24.189734528215197   7.3935352662039655   8.208464\n",
              "0          56.557355           24.196560    7.545834754428319   7.323018\n",
              "1          56.613757           24.254807     7.21777120370273   7.339084\n",
              "2          56.642808           24.138091   3.5113645931028596  11.468399\n",
              "3          56.663986           24.103001    7.418396935580117   9.191837\n",
              "4          56.477255           24.252647  0.44848553525881374  10.442434"
            ],
            "text/html": [
              "\n",
              "  <div id=\"df-0082875f-8d3a-4779-80ac-4d8d7f0c769f\">\n",
              "    <div class=\"colab-df-container\">\n",
              "      <div>\n",
              "<style scoped>\n",
              "    .dataframe tbody tr th:only-of-type {\n",
              "        vertical-align: middle;\n",
              "    }\n",
              "\n",
              "    .dataframe tbody tr th {\n",
              "        vertical-align: top;\n",
              "    }\n",
              "\n",
              "    .dataframe thead th {\n",
              "        text-align: right;\n",
              "    }\n",
              "</style>\n",
              "<table border=\"1\" class=\"dataframe\">\n",
              "  <thead>\n",
              "    <tr style=\"text-align: right;\">\n",
              "      <th></th>\n",
              "      <th>56.56677415601188</th>\n",
              "      <th>24.189734528215197</th>\n",
              "      <th>7.3935352662039655</th>\n",
              "      <th>8.208464</th>\n",
              "    </tr>\n",
              "  </thead>\n",
              "  <tbody>\n",
              "    <tr>\n",
              "      <th>0</th>\n",
              "      <td>56.557355</td>\n",
              "      <td>24.196560</td>\n",
              "      <td>7.545834754428319</td>\n",
              "      <td>7.323018</td>\n",
              "    </tr>\n",
              "    <tr>\n",
              "      <th>1</th>\n",
              "      <td>56.613757</td>\n",
              "      <td>24.254807</td>\n",
              "      <td>7.21777120370273</td>\n",
              "      <td>7.339084</td>\n",
              "    </tr>\n",
              "    <tr>\n",
              "      <th>2</th>\n",
              "      <td>56.642808</td>\n",
              "      <td>24.138091</td>\n",
              "      <td>3.5113645931028596</td>\n",
              "      <td>11.468399</td>\n",
              "    </tr>\n",
              "    <tr>\n",
              "      <th>3</th>\n",
              "      <td>56.663986</td>\n",
              "      <td>24.103001</td>\n",
              "      <td>7.418396935580117</td>\n",
              "      <td>9.191837</td>\n",
              "    </tr>\n",
              "    <tr>\n",
              "      <th>4</th>\n",
              "      <td>56.477255</td>\n",
              "      <td>24.252647</td>\n",
              "      <td>0.44848553525881374</td>\n",
              "      <td>10.442434</td>\n",
              "    </tr>\n",
              "  </tbody>\n",
              "</table>\n",
              "</div>\n",
              "      <button class=\"colab-df-convert\" onclick=\"convertToInteractive('df-0082875f-8d3a-4779-80ac-4d8d7f0c769f')\"\n",
              "              title=\"Convert this dataframe to an interactive table.\"\n",
              "              style=\"display:none;\">\n",
              "        \n",
              "  <svg xmlns=\"http://www.w3.org/2000/svg\" height=\"24px\"viewBox=\"0 0 24 24\"\n",
              "       width=\"24px\">\n",
              "    <path d=\"M0 0h24v24H0V0z\" fill=\"none\"/>\n",
              "    <path d=\"M18.56 5.44l.94 2.06.94-2.06 2.06-.94-2.06-.94-.94-2.06-.94 2.06-2.06.94zm-11 1L8.5 8.5l.94-2.06 2.06-.94-2.06-.94L8.5 2.5l-.94 2.06-2.06.94zm10 10l.94 2.06.94-2.06 2.06-.94-2.06-.94-.94-2.06-.94 2.06-2.06.94z\"/><path d=\"M17.41 7.96l-1.37-1.37c-.4-.4-.92-.59-1.43-.59-.52 0-1.04.2-1.43.59L10.3 9.45l-7.72 7.72c-.78.78-.78 2.05 0 2.83L4 21.41c.39.39.9.59 1.41.59.51 0 1.02-.2 1.41-.59l7.78-7.78 2.81-2.81c.8-.78.8-2.07 0-2.86zM5.41 20L4 18.59l7.72-7.72 1.47 1.35L5.41 20z\"/>\n",
              "  </svg>\n",
              "      </button>\n",
              "      \n",
              "  <style>\n",
              "    .colab-df-container {\n",
              "      display:flex;\n",
              "      flex-wrap:wrap;\n",
              "      gap: 12px;\n",
              "    }\n",
              "\n",
              "    .colab-df-convert {\n",
              "      background-color: #E8F0FE;\n",
              "      border: none;\n",
              "      border-radius: 50%;\n",
              "      cursor: pointer;\n",
              "      display: none;\n",
              "      fill: #1967D2;\n",
              "      height: 32px;\n",
              "      padding: 0 0 0 0;\n",
              "      width: 32px;\n",
              "    }\n",
              "\n",
              "    .colab-df-convert:hover {\n",
              "      background-color: #E2EBFA;\n",
              "      box-shadow: 0px 1px 2px rgba(60, 64, 67, 0.3), 0px 1px 3px 1px rgba(60, 64, 67, 0.15);\n",
              "      fill: #174EA6;\n",
              "    }\n",
              "\n",
              "    [theme=dark] .colab-df-convert {\n",
              "      background-color: #3B4455;\n",
              "      fill: #D2E3FC;\n",
              "    }\n",
              "\n",
              "    [theme=dark] .colab-df-convert:hover {\n",
              "      background-color: #434B5C;\n",
              "      box-shadow: 0px 1px 3px 1px rgba(0, 0, 0, 0.15);\n",
              "      filter: drop-shadow(0px 1px 2px rgba(0, 0, 0, 0.3));\n",
              "      fill: #FFFFFF;\n",
              "    }\n",
              "  </style>\n",
              "\n",
              "      <script>\n",
              "        const buttonEl =\n",
              "          document.querySelector('#df-0082875f-8d3a-4779-80ac-4d8d7f0c769f button.colab-df-convert');\n",
              "        buttonEl.style.display =\n",
              "          google.colab.kernel.accessAllowed ? 'block' : 'none';\n",
              "\n",
              "        async function convertToInteractive(key) {\n",
              "          const element = document.querySelector('#df-0082875f-8d3a-4779-80ac-4d8d7f0c769f');\n",
              "          const dataTable =\n",
              "            await google.colab.kernel.invokeFunction('convertToInteractive',\n",
              "                                                     [key], {});\n",
              "          if (!dataTable) return;\n",
              "\n",
              "          const docLinkHtml = 'Like what you see? Visit the ' +\n",
              "            '<a target=\"_blank\" href=https://colab.research.google.com/notebooks/data_table.ipynb>data table notebook</a>'\n",
              "            + ' to learn more about interactive tables.';\n",
              "          element.innerHTML = '';\n",
              "          dataTable['output_type'] = 'display_data';\n",
              "          await google.colab.output.renderOutput(dataTable, element);\n",
              "          const docLink = document.createElement('div');\n",
              "          docLink.innerHTML = docLinkHtml;\n",
              "          element.appendChild(docLink);\n",
              "        }\n",
              "      </script>\n",
              "    </div>\n",
              "  </div>\n",
              "  "
            ]
          },
          "metadata": {},
          "execution_count": 12
        }
      ]
    },
    {
      "cell_type": "code",
      "source": [
        "# columns=list(df)\n",
        "# for i in columns:\n",
        "#     print(df[2][i])\n",
        "parallax=df[df.columns[2]].tolist()\n",
        "print(parallax)  \n",
        "appMag=df[df.columns[3]].tolist()  \n",
        "print(appMag)\n",
        "\n",
        "d=[]\n",
        "\n",
        "for i in range(0,len(parallax)):\n",
        "    if(parallax[i]!='--'):\n",
        "        d.append(1/float(parallax[i]))\n",
        "    else:\n",
        "        d.append(0)    \n",
        "print(d)   \n",
        "\n",
        "absMag=[]\n",
        "for i in range(0,len(parallax)):\n",
        "    if(parallax[i]!='--'):\n",
        "        absMag.append(appMag[i]+5-5*math.log(d[i],10))"
      ],
      "metadata": {
        "colab": {
          "base_uri": "https://localhost:8080/"
        },
        "id": "rOMPo857eazJ",
        "outputId": "6c691f97-0e87-4e89-8a8c-8a7a35b04343"
      },
      "execution_count": null,
      "outputs": [
        {
          "output_type": "stream",
          "name": "stdout",
          "text": [
            "['7.545834754428319', '7.21777120370273', '3.5113645931028596', '7.418396935580117', '0.44848553525881374', '3.360989704293919', '7.708787099744191', '7.43157031770279', '3.7330699247711645', '1.0983208845877885', '2.5662450421932825', '7.350862523516928', '7.762786109484023', '1.1446624528493998', '7.320286278692637', '7.2260253152830325', '9.477960159872573', '10.643168158975726', '0.35308932634003803', '7.503006634693022', '7.347068599840799', '9.662704410961986', '2.617912579753086', '7.444952560871437', '7.373470280478264', '1.6472497295161441', '3.165676467208677', '9.478144377901161', '7.3699248916506646', '0.9483847284886765', '1.1786547801807679', '7.166029341365242', '7.968840141979247', '0.5877205125435242', '7.384428664141677', '7.311593601835325', '0.7778027781742108', '1.8175142199119436', '2.772802694063809', '8.003393600342932', '2.159775744981509', '7.435439810887517', '0.8531054751264999', '7.316612651236727', '7.345346779785368', '5.66551696793537', '0.4859641299924846', '7.059786350286854', '1.5643408388320725', '0.42539652408765477', '1.5952661961502212', '0.814620350739001', '8.704054073446402', '0.7200134055068416', '7.283048225972547', '7.195810034557828', '7.1804702892911765', '0.261067614966368', '7.5658208624624805', '7.523388375563638', '6.472217255350215', '--', '8.969055820031802', '7.397034567755774', '0.8040438852295568', '--', '5.856493215896085', '0.3762632697391426', '1.0380163090354013', '7.422778447756323', '7.399871170697114', '7.528025263415855', '7.415387496792548', '10.135506566321347', '1.8477881512731515', '6.992730253845261', '0.5371777787763561', '0.6962787779420124', '6.635535083137284', '7.186253009391363', '7.830582956628672', '7.127110734276691', '6.366023242691494', '7.568906833789587', '0.42332754750327833', '0.6704960369626963', '1.2033902042128186', '7.20805133722845', '7.280531682174002', '2.033853493574823', '7.346930987154904', '0.5177028526207695', '1.6477922166877454', '0.7507743241976158', '7.379283401069254', '7.9522911435718795', '3.1881864298237574', '0.5625321001596428', '4.746006287030612', '7.840308197150023', '6.9495949782555355', '7.173243564075554', '3.903363365255972', '0.7719815329615543', '3.0264215516254174', '14.964361696188325', '2.4227685552311367', '2.0856314793670068', '7.528311850425594', '7.037055815377483', '7.321315034901866', '7.34694822960917', '0.5688680359422128', '5.241338773824114', '1.3706023008146366', '10.260650453223072', '7.603623323698955', '2.777623791726438', '6.966932356290467', '0.36228492519393923', '1.936348013538524', '7.604931015974854', '3.287466829889651', '7.148459964794544', '1.5420583608094494', '7.34952552394294', '2.151805270124747', '7.623618789333136', '7.40655131489199', '3.0169017909979114', '0.9437084657077149', '3.4190071837641587', '7.3453420842274735', '0.20087011948066735', '7.378027754105461', '4.057945873789171', '1.1892850454858679', '3.1167707878221114', '7.410569251115423', '0.6529832544558789', '7.226433157469438', '7.3856985145787775', '--', '3.6734658445392485', '7.722945189443285', '--', '1.2516631496519732', '8.429236085307085', '0.7429604676589802', '7.418137320255127', '5.209378412734741', '1.9018787255983005', '1.0900601166887733', '1.084172822129139', '2.4442756001787354', '0.4353543151678404', '7.148574909566619', '0.8024176100858342', '4.67134827580125', '1.2569132423863865', '11.572518752237906', '3.063404578388046', '3.715638429007097', '6.966707472789265', '0.6782655505875024', '3.9363029138669323', '7.35516303366975', '2.512197259140249', '7.34047390507555', '1.8363382993828767', '7.040344924647165', '4.913737511899499', '1.4682678356184176', '0.2567479121781908', '4.692398993679885', '7.220920105721395', '7.095886635807336', '1.4272862306307725', '0.193492960619412', '7.448522516836224', '3.4553765919427404', '7.11853140511571', '7.460507829982148', '2.7874348680857444', '7.280298495834878', '5.50726964299717', '1.0754537746317077', '5.121184432364723', '3.628263216836093', '7.4086442029333766', '4.630657675773075', '3.1936683179507384', '1.971715368953185', '7.365001264167708', '7.184980521025954', '0.7318242043789284', '7.209080087285128', '3.2474518773823196', '0.31234967684231557']\n",
            "[7.323018, 7.339084, 11.468399, 9.191837, 10.442434, 10.441549, 10.471946, 10.400532, 11.679286, 10.776446, 11.948313, 11.964892, 9.312448, 10.915433, 9.368323, 7.818111, 3.8070912, 8.601543, 11.517201, 9.981662, 8.231667, 7.146499, 10.691329, 6.2838345, 10.8633795, 11.594523, 10.564678, 4.090774, 8.322883, 11.439081, 10.4208975, 6.7984514, 2.7730389, 11.9997, 8.005559, 11.08914, 11.396367, 11.315969, 11.516615, 8.537581, 11.6951065, 8.540198, 11.171351, 10.398834, 6.4089994, 10.77819, 11.115068, 6.786959, 10.24815, 10.231952, 11.85393, 11.631223, 3.6412394, 10.593347, 9.73422, 7.273158, 10.296782, 10.730732, 5.7392497, 5.4266515, 10.177448, 11.258143, 4.236967, 11.190211, 11.349313, 9.18312, 10.737632, 11.881661, 11.752175, 10.273763, 10.038034, 11.404611, 9.75268, 10.671535, 9.766432, 8.201289, 9.51209, 10.715518, 11.459787, 10.587136, 7.6179986, 6.981759, 9.335561, 9.586493, 11.140557, 11.647954, 9.876775, 8.962649, 11.68959, 11.660717, 11.889382, 11.821625, 10.989933, 10.703776, 9.894127, 8.112242, 10.416583, 10.6698265, 8.9438715, 6.9237204, 11.048224, 10.871961, 10.970018, 10.306823, 10.074388, 6.8493, 8.800345, 10.970497, 11.164752, 11.8450365, 10.239899, 11.209154, 9.580821, 10.229003, 10.42774, 11.163269, 11.588625, 10.0916195, 10.699402, 11.594223, 9.75218, 7.7320957, 11.397654, 8.025201, 11.770024, 8.880561, 11.39592, 11.105286, 11.258368, 11.358797, 10.921241, 11.837176, 10.409135, 11.813737, 10.528545, 11.515564, 11.6368885, 11.116849, 10.383268, 10.664014, 8.186488, 9.533586, 8.336549, 11.830066, 5.1857038, 8.238893, 11.874818, 3.5312312, 11.619273, 8.027895, 7.395449, 11.819791, 11.510346, 11.684012, 11.622597, 11.334334, 11.9505205, 11.077531, 9.75491, 11.372999, 6.369063, 11.908692, 10.7203, 7.5111723, 11.610876, 11.90386, 7.940643, 11.65844, 5.6231275, 9.918494, 6.589043, 10.566325, 10.415842, 11.522365, 11.600036, 11.9679785, 9.986124, 8.979438, 11.135774, 8.087943, 11.944607, 10.361045, 11.268925, 8.416334, 9.562554, 9.364542, 9.948633, 11.523242, 10.914144, 9.712552, 11.873816, 11.154561, 11.840519, 11.464658, 10.851324, 11.7031145, 10.420579, 11.549389, 11.863298]\n",
            "[0.1325234427394721, 0.13854692422045717, 0.2847895664164962, 0.13480001254769744, 2.2297263153044975, 0.29753140829988983, 0.1297220933800577, 0.13456106276999005, 0.26787604308303964, 0.9104807292955288, 0.38967440114188545, 0.13603845763688185, 0.12881972862530255, 0.8736199894656345, 0.13660667929213755, 0.13838866546523185, 0.1055079345272796, 0.09395698583947185, 2.832144518118237, 0.13327990346911295, 0.13610870599760952, 0.1034906955102069, 0.38198372540549735, 0.1343191903271106, 0.13562135086481114, 0.6070724930662066, 0.3158882502234179, 0.10550588386599781, 0.13568659310665335, 1.0544244017863682, 0.8484248456928432, 0.13954729353780237, 0.12548877655759155, 1.701489021834922, 0.13542009077234876, 0.1367690895386998, 1.2856729598566976, 0.5502020226551233, 0.3606459277253528, 0.12494699747831366, 0.46301103358699003, 0.13449103555861303, 1.172187999205747, 0.13667526868884744, 0.13614061118966259, 0.17650639926764183, 2.0577650453655187, 0.1416473460219328, 0.639246879693171, 2.350747933694789, 0.6268546292858531, 1.2275656986629757, 0.11488899213651672, 1.3888630299821523, 0.13730514600107077, 0.13896976090217875, 0.1392666440652755, 3.8304253100440087, 0.13217336468557697, 0.13291883258985443, 0.1545065563386885, 0, 0.11149445605707628, 0.13518931009989796, 1.243713208159648, 0, 0.1707506460155598, 2.6577135756388985, 0.9633760002569431, 0.13472044289591711, 0.13513748779301973, 0.1328369612227162, 0.13485471938351704, 0.09866305087530984, 0.5411875811147432, 0.14300565926307623, 1.861581099422825, 1.436206346767734, 0.15070374694292168, 0.13915457731493017, 0.12770441300969673, 0.1403093114844787, 0.15708393794321265, 0.13211947536938062, 2.362237009846981, 1.4914331254364086, 0.8309856574361402, 0.13873375108126068, 0.13735260605327043, 0.4916774994654802, 0.13611125540016125, 1.9316099861874343, 0.6068726322849834, 1.3319581767380526, 0.13551451348990073, 0.12574992312854838, 0.31365794379072115, 1.7776763312106219, 0.21070347140767492, 0.12754600646483555, 0.1438932776843661, 0.13940694904159082, 0.2561893183968085, 1.2953677741016654, 0.33042323514479477, 0.06682543634685847, 0.4127509405885442, 0.47947109059914167, 0.13283190439878861, 0.1421048839508683, 0.13658748397423714, 0.13611093596248142, 1.7578769359816566, 0.1907909492502416, 0.7296062463966652, 0.09745970828641574, 0.13151624658775538, 0.36001995769860823, 0.1435351958164337, 2.760258378028502, 0.5164360915539034, 0.1314936319474047, 0.3041855786674406, 0.1398902707611011, 0.6484838871306304, 0.13606320526981597, 0.46472606693728696, 0.1311713016657111, 0.13501560408949695, 0.33146587767088914, 1.0596492840085634, 0.2924825676730662, 0.13614069821843733, 4.978341241521711, 0.1355375763453256, 0.24643009815856273, 0.8408413136915063, 0.3208448962327334, 0.13494239998492452, 1.5314328402391957, 0.13838085514793322, 0.1353968074957406, 0, 0.27222248479226757, 0.12948428034513682, 0, 0.7989369985671076, 0.11863471255041601, 1.3459666342018635, 0.13480473019413014, 0.19196148192180093, 0.5257958809573497, 0.9173805964368783, 0.922362172883252, 0.4091191680377106, 2.296979644302995, 0.1398880214099379, 1.2462338655466827, 0.21407095788174252, 0.7955998602587647, 0.08641161197570917, 0.3264341925499755, 0.26913275312076657, 0.14353982909513915, 1.4743487991300996, 0.25404548935427923, 0.13595891694341747, 0.3980579137890751, 0.13623098630029226, 0.5445619689662095, 0.14203849537245736, 0.20351107432546411, 0.6810746484675335, 3.894871009918748, 0.2131106074625972, 0.13848650661674874, 0.14092671590239192, 0.7006303140457409, 5.168146669515975, 0.1342548133189711, 0.2894040557928776, 0.14047841374716044, 0.1340391328297008, 0.3587527771318813, 0.1373570054266468, 0.1815781802642551, 0.9298400578327534, 0.19526732794082302, 0.27561396189773046, 0.13497746316445597, 0.2159520461276708, 0.31311955420645055, 0.5071725948613546, 0.13577730188115675, 0.13917922213896392, 1.3664483820245632, 0.13871395349924467, 0.3079337393618507, 3.201540049951238]\n"
          ]
        }
      ]
    },
    {
      "cell_type": "code",
      "source": [
        "import numpy as np\n",
        "from matplotlib import pyplot as plt\n",
        "\n",
        "absMag=np.array(absMag)\n",
        "fig, ax=plt.subplots(figsize=(10,7))\n",
        "ax.hist(absMag,bins=50)\n",
        "plt.show()"
      ],
      "metadata": {
        "colab": {
          "base_uri": "https://localhost:8080/",
          "height": 428
        },
        "id": "sftjC24erykn",
        "outputId": "46237238-a3d7-4a07-97ae-5bddae5bb0ea"
      },
      "execution_count": null,
      "outputs": [
        {
          "output_type": "display_data",
          "data": {
            "text/plain": [
              "<Figure size 720x504 with 1 Axes>"
            ],
            "image/png": "[encoded data removed]"
          },
          "metadata": {
            "needs_background": "light"
          }
        }
      ]
    },
    {
      "cell_type": "markdown",
      "source": [
        "A good way to visualize the actual star cluster as it appears to us in the night sky would be to make a scatter plot of declination and RA on the $y$ and $x$ axes respectively. Try plotting the stars such that the star appears bigger if it is brighter. One way to do this is to make the size of dots in scatter plot proportional to (12 - apparent magnitude) of the star.\n",
        "\n",
        "(Hint: Google how to make a scatter plot with variable size of dots.)\n",
        "\n",
        "If you can't make a plot with variable dot sizes, make a simple plot with all dots of same size."
      ],
      "metadata": {
        "id": "GafdlK2-sinu"
      }
    },
    {
      "cell_type": "code",
      "source": [
        "#Solution code\n",
        "s=[]\n",
        "for i in range(0,len(parallax)):\n",
        "    s.append(12-appMag[i])\n",
        "plt.scatter(df[df.columns[0]],df[df.columns[1]],s)\n",
        "plt.show()\n"
      ],
      "metadata": {
        "id": "JUu_c0zU6vFF",
        "colab": {
          "base_uri": "https://localhost:8080/",
          "height": 265
        },
        "outputId": "1c51eba0-0eaf-4a45-a27b-649612e82aba"
      },
      "execution_count": null,
      "outputs": [
        {
          "output_type": "display_data",
          "data": {
            "text/plain": [
              "<Figure size 432x288 with 1 Axes>"
            ],
            "image/png": "[encoded data removed]"
          },
          "metadata": {
            "needs_background": "light"
          }
        }
      ]
    },
    {
      "cell_type": "markdown",
      "source": [
        "# **Question 2 : Estimating Age of Universe using Hubble's Law**\n",
        "\n",
        "In this problem, we will use Hubble's Law on a large number of galaxies, and fit the data to a linear model to find the value of the Hubble Constant, which we will use to calculate the current age of the universe.\n",
        "\n",
        "You can learn more about Hubble's Law, a very important principle of cosmology and expansion of Universe over here - https://simple.m.wikipedia.org/wiki/Hubble%27s_law \n",
        "\n",
        "Step 0: Importing libraries\n",
        "\n",
        "Dump all the required libraries, and define any necessary constants in the code box below.\n",
        "\n",
        "You will require the optimize module of scipy library, so be sure to include a line saying `from scipy.optimize import curve_fit`."
      ],
      "metadata": {
        "id": "L2gMlFIy7Ucq"
      }
    },
    {
      "cell_type": "code",
      "source": [
        "#import libraries and define constants\n",
        "from scipy.optimize import curve_fit"
      ],
      "metadata": {
        "id": "DTpOG9Fr70Nc"
      },
      "execution_count": 1,
      "outputs": []
    },
    {
      "cell_type": "markdown",
      "source": [
        "Step 2: Loading the data\n",
        "\n",
        "Open the file \"data.txt\" and store it in array(s). First row contains the distance modulus (https://en.m.wikipedia.org/wiki/Distance_modulus) of the galaxy from earth, second row contains the line of sight velocity in km/s.\n",
        "\n",
        "To convert distance modulus to distance in Megaparsecs (the unit we will be using in the rest of the question), use the formula:\n",
        "\n",
        "$d = 10^{\\left(\\frac{d_{dist mod}}{5} - 5\\right)}$\n",
        "\n",
        "where $d$ is in megaparsecs (Mpc)."
      ],
      "metadata": {
        "id": "b_Fes9_P78i_"
      }
    },
    {
      "cell_type": "code",
      "source": [
        "#Load data and convert it to useable form\n",
        "import pandas as pd\n",
        "df2=pd.read_table(\"/content/drive/MyDrive/Selection_Assignment/data.txt\",delimiter=\",\")\n",
        "print(df2)\n",
        "dis=[]\n",
        "    \n",
        "dis.append(pow(10,(df2[\"mod0\"]/5-5)))\n",
        "    \n",
        "print(dis[0])"
      ],
      "metadata": {
        "id": "itgR16OO8jTb",
        "colab": {
          "base_uri": "https://localhost:8080/"
        },
        "outputId": "f3ef8e0d-625e-4008-e70e-dafb5b109c4e"
      },
      "execution_count": 34,
      "outputs": [
        {
          "output_type": "stream",
          "name": "stdout",
          "text": [
            "       mod0   vgsr\n",
            "0     36.65  15080\n",
            "1     37.29  18221\n",
            "2     33.75   3129\n",
            "3     32.66   4486\n",
            "4     33.37   4564\n",
            "...     ...    ...\n",
            "4059  34.09   4843\n",
            "4060  37.62  23832\n",
            "4061  36.06  11410\n",
            "4062  35.96   9105\n",
            "4063  34.96   7952\n",
            "\n",
            "[4064 rows x 2 columns]\n",
            "0       213.796209\n",
            "1       287.078058\n",
            "2        56.234133\n",
            "3        34.040819\n",
            "4        47.206304\n",
            "           ...    \n",
            "4059     65.765784\n",
            "4060    334.195040\n",
            "4061    162.929603\n",
            "4062    155.596563\n",
            "4063     98.174794\n",
            "Name: mod0, Length: 4064, dtype: float64\n"
          ]
        }
      ]
    },
    {
      "cell_type": "markdown",
      "source": [
        "Step 3: Preliminary Data Visualization\n",
        "\n",
        "Create a function taking the distance to the galaxy, and a slope and an intercept parameter as input, returning recession velocity of that galaxy as output. A code snippet showing how to use curve_fit to find the optimum slope and intercept is shown here - https://github.com/krittikaiitb/tutorials/blob/master/Tutorial_07/SciPy1.ipynb \n",
        "\n",
        "Create a scatter plot of the line of sight velocity of the galaxies (in km/s) vs the distance to the galaxies (in Mpc). Also plot the model you just fit in the same graph."
      ],
      "metadata": {
        "id": "v8n0_bmv8rBu"
      }
    },
    {
      "cell_type": "code",
      "source": [
        "#Create a best fit model and plot the data\n",
        "from scipy.optimize import curve_fit as cf \n",
        "def lin_func(x,m,c):\n",
        "    return m*x+c\n",
        "\n",
        "p_opt,p_cov=cf(lin_func,dis[0],df2[\"vgsr\"])   \n",
        "p_opt "
      ],
      "metadata": {
        "id": "PYqutdHI8yB6",
        "colab": {
          "base_uri": "https://localhost:8080/"
        },
        "outputId": "6bbb067d-0154-4c18-d551-2f97587109e9"
      },
      "execution_count": 35,
      "outputs": [
        {
          "output_type": "execute_result",
          "data": {
            "text/plain": [
              "array([ 62.98363314, 712.12427011])"
            ]
          },
          "metadata": {},
          "execution_count": 35
        }
      ]
    },
    {
      "cell_type": "code",
      "source": [
        "from matplotlib import pyplot as plt\n",
        "\n",
        "plt.plot(df2[\"mod0\"],lin_func(df2[\"mod0\"],*p_opt),label='Best Fit',color='g')\n",
        "# * before a separable object unpacks it. So you don't need to write lin_func(xdata,p_opt[0],p_opt[1]). The *\n",
        "# does it for you.\n",
        "plt.scatter(df2[\"mod0\"],df2[\"vgsr\"],label='OG_Data',s=1,color='darkorange')\n",
        "# Yes, you can have scatter plot and a normal plot in one\n",
        "plt.xlabel('x')\n",
        "plt.ylabel('y')\n",
        "plt.title('Linear Fit')\n",
        "plt.legend()"
      ],
      "metadata": {
        "colab": {
          "base_uri": "https://localhost:8080/",
          "height": 312
        },
        "id": "OE0vQBKcM8zj",
        "outputId": "d3570026-85cc-42e7-94f9-80fc05f705e3"
      },
      "execution_count": 36,
      "outputs": [
        {
          "output_type": "execute_result",
          "data": {
            "text/plain": [
              "<matplotlib.legend.Legend at 0x7f824c3e5fd0>"
            ]
          },
          "metadata": {},
          "execution_count": 36
        },
        {
          "output_type": "display_data",
          "data": {
            "text/plain": [
              "<Figure size 432x288 with 1 Axes>"
            ],
            "image/png": "[encoded data removed]"
          },
          "metadata": {
            "needs_background": "light"
          }
        }
      ]
    },
    {
      "cell_type": "markdown",
      "source": [
        "Step 4: Removing Outliers (OPTIONAL)\n",
        "\n",
        "As you can see, there are many points on the outskirts of the graph, which may affect out calulations of the slope and intercept unduly. Devise a way to remove those outliers to your satisfaction, and replot the remaining data points. There are multiple ways to do this, a few of them could be:\n",
        "\n",
        "1. Removing all points whose distances are 3$\\times$(Standard Deviation of Distance from Earth) away from the Mean Distance of all input galaxies from Earth. (or take any factor other than 3)\n",
        "\n",
        "2. Removing all points which are a certain distance away from the best fit line initially calculated (decide yourself what to set this distance as, could be a factor of the mean distance from the line for all points)."
      ],
      "metadata": {
        "id": "osng2Pxi84rx"
      }
    },
    {
      "cell_type": "code",
      "source": [
        "#Remove outliers and replot the improved data"
      ],
      "metadata": {
        "id": "0-RxWO9g9Lzd"
      },
      "execution_count": null,
      "outputs": []
    },
    {
      "cell_type": "markdown",
      "source": [
        "Step 5: Conclusion\n",
        "\n",
        "The slope of the graph (with recessional velocity in the y-axis and distance of the galaxy in the x-axis) gives us the Hubble Constant $H_0$ (in units km/s-Mpc). The reciprocal of the Hubble Constant is a good approximation for the age of the universe. Hence, find the age of the universe using your calculations."
      ],
      "metadata": {
        "id": "y0PXYi3V9QF0"
      }
    },
    {
      "cell_type": "code",
      "source": [
        "#Solution code"
      ],
      "metadata": {
        "id": "2u9oHjvS9gZf"
      },
      "execution_count": null,
      "outputs": []
    }
  ]
}
